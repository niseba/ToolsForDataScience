{
 "cells": [
  {
   "cell_type": "markdown",
   "id": "25c58bce",
   "metadata": {},
   "source": [
    "\n",
    "# Data Science Tools and Ecosystem"
   ]
  },
  {
   "cell_type": "markdown",
   "id": "fa740596",
   "metadata": {},
   "source": [
    "In this notebook, Data Science Tools and Ecosystem are summarized."
   ]
  },
  {
   "cell_type": "markdown",
   "id": "9d44b03a",
   "metadata": {},
   "source": [
    " Some popular languages used in Data Science are\n",
    "  1. Python.\n",
    "  2. R.\n",
    "  3. Java.\n",
    "  4. SQL.\n",
    "  5. C++."
   ]
  },
  {
   "cell_type": "markdown",
   "id": "8b4ac538",
   "metadata": {},
   "source": [
    "Some of the commonly used libraries used by Data Scientists include:\n",
    "   1) Tensorflow\n",
    "   2) Numpy\n",
    "   3) Pandas\n",
    "   4) SciPy\n",
    "   5) Matplotlib\n",
    "   6) Scikit-learn\n",
    "   7) Keras"
   ]
  },
  {
   "cell_type": "markdown",
   "id": "70d93279",
   "metadata": {},
   "source": [
    "|Data Science Tools|\n",
    "|---|\n",
    "|Apache Hadoop|\n",
    "|TensorFlow|\n",
    "|Vegas|"
   ]
  },
  {
   "cell_type": "markdown",
   "id": "b63e889f",
   "metadata": {},
   "source": [
    "### Below are a few examples of evaluating arithmetic expressions in Python"
   ]
  },
  {
   "cell_type": "code",
   "execution_count": 13,
   "id": "23bb818f",
   "metadata": {},
   "outputs": [
    {
     "data": {
      "text/plain": [
       "17"
      ]
     },
     "execution_count": 13,
     "metadata": {},
     "output_type": "execute_result"
    }
   ],
   "source": [
    "#This is a common arithmetic example of multiplying and adding\n",
    "(3*4)+5"
   ]
  },
  {
   "cell_type": "code",
   "execution_count": 17,
   "id": "09f44891",
   "metadata": {},
   "outputs": [
    {
     "data": {
      "text/plain": [
       "3.3333333333333335"
      ]
     },
     "execution_count": 17,
     "metadata": {},
     "output_type": "execute_result"
    }
   ],
   "source": [
    "#This will convert 200 minutes to hours by diving by 60\n",
    "200/60"
   ]
  },
  {
   "cell_type": "markdown",
   "id": "1563b45a",
   "metadata": {},
   "source": [
    "__Objectives:__\n",
    "* List popular languages for Data Science\n",
    "* List popular libraries for Data Science\n",
    "* List of well known Data Science Tools\n",
    "* How to provide comments in the cell"
   ]
  },
  {
   "cell_type": "markdown",
   "id": "6b3498c8",
   "metadata": {},
   "source": [
    "## Author:\n",
    "Nicolás Barrios Álvarez"
   ]
  }
 ],
 "metadata": {
  "kernelspec": {
   "display_name": "Python 3 (ipykernel)",
   "language": "python",
   "name": "python3"
  },
  "language_info": {
   "codemirror_mode": {
    "name": "ipython",
    "version": 3
   },
   "file_extension": ".py",
   "mimetype": "text/x-python",
   "name": "python",
   "nbconvert_exporter": "python",
   "pygments_lexer": "ipython3",
   "version": "3.10.9"
  }
 },
 "nbformat": 4,
 "nbformat_minor": 5
}
